{
  "nbformat": 4,
  "nbformat_minor": 0,
  "metadata": {
    "colab": {
      "name": "run_colab.ipynb",
      "provenance": [],
      "collapsed_sections": [],
      "authorship_tag": "ABX9TyNgLjThWE4AsGhLINuAVKHe",
      "include_colab_link": true
    },
    "kernelspec": {
      "name": "python3",
      "display_name": "Python 3"
    },
    "language_info": {
      "name": "python"
    }
  },
  "cells": [
    {
      "cell_type": "markdown",
      "metadata": {
        "id": "view-in-github",
        "colab_type": "text"
      },
      "source": [
        "<a href=\"https://colab.research.google.com/github/aliciafmachado/kernel_challenge/blob/main/notebooks/run_best_model.ipynb\" target=\"_parent\"><img src=\"https://colab.research.google.com/assets/colab-badge.svg\" alt=\"Open In Colab\"/></a>"
      ]
    },
    {
      "cell_type": "markdown",
      "source": [
        "# Notebook for running code"
      ],
      "metadata": {
        "id": "MKd2ifG7wstz"
      }
    },
    {
      "cell_type": "code",
      "execution_count": null,
      "metadata": {
        "id": "H_nMzrV_vwyE"
      },
      "outputs": [],
      "source": [
        "# Clone repo\n",
        "! git clone https://github.com/aliciafmachado/kernel_challenge.git"
      ]
    },
    {
      "cell_type": "code",
      "source": [
        "# Get to kernel folder\n",
        "% cd kernel_challenge"
      ],
      "metadata": {
        "id": "LJ-eOhMKv2Vj"
      },
      "execution_count": null,
      "outputs": []
    },
    {
      "cell_type": "code",
      "source": [
        "# Install requirements\n",
        "! pip install -e ."
      ],
      "metadata": {
        "id": "E2YvkBY7vzky"
      },
      "execution_count": null,
      "outputs": []
    },
    {
      "cell_type": "code",
      "source": [
        "# Mount on drive to copy data\n",
        "from google.colab import drive\n",
        "drive.mount('/content/drive')\n",
        "\n",
        "# Replace path below by the path for your data...\n",
        "! cp -r ../drive/path/to/the/data ."
      ],
      "metadata": {
        "id": "NEcSyrA_v_AY"
      },
      "execution_count": null,
      "outputs": []
    },
    {
      "cell_type": "code",
      "source": [
        "# Run start.py :)\n",
        "! python start.py"
      ],
      "metadata": {
        "id": "S56HypuPv0oZ"
      },
      "execution_count": null,
      "outputs": []
    }
  ]
}